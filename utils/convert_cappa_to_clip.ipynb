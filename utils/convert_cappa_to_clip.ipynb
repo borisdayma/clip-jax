{
 "cells": [
  {
   "attachments": {},
   "cell_type": "markdown",
   "metadata": {},
   "source": [
    "# Convert models"
   ]
  },
  {
   "cell_type": "markdown",
   "metadata": {},
   "source": [
    "This notebook can be used to convert a pre-trained Cappa model to CLIP."
   ]
  },
  {
   "cell_type": "code",
   "execution_count": null,
   "metadata": {},
   "outputs": [],
   "source": [
    "import json\n",
    "from dataclasses import asdict\n",
    "from functools import partial\n",
    "\n",
    "import flax.linen as nn\n",
    "import fsspec\n",
    "import jax\n",
    "import jax.numpy as jnp\n",
    "import orbax\n",
    "import wandb\n",
    "from flax.training import orbax_utils\n",
    "from jax.experimental.mesh_utils import create_device_mesh\n",
    "from jax.experimental.pjit import pjit\n",
    "from jax.sharding import Mesh, PartitionSpec\n",
    "\n",
    "from clip_jax import CLIPModel\n",
    "from clip_jax.partitions import logical_axis_rules\n",
    "from clip_jax.utils import count_params, load_config"
   ]
  },
  {
   "attachments": {},
   "cell_type": "markdown",
   "metadata": {},
   "source": [
    "## Load a new model"
   ]
  },
  {
   "cell_type": "code",
   "execution_count": null,
   "metadata": {},
   "outputs": [],
   "source": [
    "# load a config\n",
    "model_path = \"../configs/large-patch16-clip.json\"\n",
    "config = load_config(model_path)"
   ]
  },
  {
   "cell_type": "code",
   "execution_count": null,
   "metadata": {},
   "outputs": [],
   "source": [
    "# instantiate model\n",
    "model = CLIPModel(**config)"
   ]
  },
  {
   "cell_type": "code",
   "execution_count": null,
   "metadata": {},
   "outputs": [],
   "source": [
    "# save loaded config (adds potential missing defaults)\n",
    "config = {k: v for k, v in asdict(model).items() if k not in [\"parent\", \"name\"]}\n",
    "\n",
    "with open(\"config.json\", \"w\") as f:\n",
    "    f.write(json.dumps(config, indent=4))"
   ]
  },
  {
   "cell_type": "code",
   "execution_count": null,
   "metadata": {},
   "outputs": [],
   "source": [
    "# create inputs\n",
    "rng = jax.random.PRNGKey(0)\n",
    "model_inputs = model.init_inputs(rng)"
   ]
  },
  {
   "cell_type": "code",
   "execution_count": null,
   "metadata": {},
   "outputs": [],
   "source": [
    "# display summary\n",
    "tabulation = model.tabulate(\n",
    "    **model_inputs, console_kwargs={\"width\": 400, \"force_terminal\": False, \"force_jupyter\": False}\n",
    ")\n",
    "# write to a file (too long to be displayed in the notebook)\n",
    "with open(\"summary.md\", \"w\") as f:\n",
    "    f.write(tabulation)"
   ]
  },
  {
   "cell_type": "code",
   "execution_count": null,
   "metadata": {},
   "outputs": [],
   "source": [
    "# get logical params\n",
    "logical_params = jax.eval_shape(lambda inputs: model.init(**inputs), model_inputs)[\"params\"]"
   ]
  },
  {
   "cell_type": "code",
   "execution_count": null,
   "metadata": {},
   "outputs": [],
   "source": [
    "# Number of parameters\n",
    "print(f\"Number of parameters: {count_params(logical_params):,}\")\n",
    "for k, v in logical_params.items():\n",
    "    print(f\"{k}: {count_params(v):,}\")"
   ]
  },
  {
   "cell_type": "markdown",
   "metadata": {},
   "source": [
    "## Init model"
   ]
  },
  {
   "cell_type": "code",
   "execution_count": null,
   "metadata": {},
   "outputs": [],
   "source": [
    "# create specs\n",
    "rng = jax.random.PRNGKey(0)\n",
    "logical_params = jax.eval_shape(lambda rng: model.init_weights(rng), rng)[\"params\"]\n",
    "logical_spec = nn.get_partition_spec(logical_params)\n",
    "rules = logical_axis_rules(activation_partitioning_dims=2, parameter_partitioning_dims=2)\n",
    "params_spec = nn.logical_to_mesh(logical_spec, rules)\n",
    "data_spec = PartitionSpec(\"data\")"
   ]
  },
  {
   "cell_type": "code",
   "execution_count": null,
   "metadata": {},
   "outputs": [],
   "source": [
    "# create mesh\n",
    "mp_devices = 1\n",
    "dp_devices = jax.local_device_count() // 1\n",
    "dev_mesh = create_device_mesh((dp_devices, 1))\n",
    "mesh = Mesh(dev_mesh, (\"data\", \"model\"))"
   ]
  },
  {
   "cell_type": "code",
   "execution_count": null,
   "metadata": {},
   "outputs": [],
   "source": [
    "# init to 0 (faster but memory may be fragmented)\n",
    "@partial(pjit, in_shardings=None, out_shardings=params_spec)\n",
    "def init_params_to_zero():\n",
    "    return jax.tree_map(lambda x: jnp.zeros(x.shape, dtype=x.dtype), logical_params)\n",
    "\n",
    "\n",
    "# regular init\n",
    "@partial(pjit, in_shardings=None, out_shardings=params_spec)\n",
    "def init_params(rng):\n",
    "    return model.init_weights(rng)[\"params\"]\n",
    "\n",
    "\n",
    "with mesh:\n",
    "    params = init_params(rng)"
   ]
  },
  {
   "cell_type": "markdown",
   "metadata": {},
   "source": [
    "## Restore different checkpoint"
   ]
  },
  {
   "cell_type": "code",
   "execution_count": null,
   "metadata": {},
   "outputs": [],
   "source": [
    "# other model checkpoint\n",
    "config_name = \"entity/project/config-run_id:latest\""
   ]
  },
  {
   "cell_type": "code",
   "execution_count": null,
   "metadata": {},
   "outputs": [],
   "source": [
    "# get model checkpoint\n",
    "api = wandb.Api()\n",
    "artifact = api.artifact(config_name)\n",
    "step = artifact.metadata[\"step\"]\n",
    "model_path = artifact.metadata[\"output_dir\"]\n",
    "model_path, step"
   ]
  },
  {
   "cell_type": "code",
   "execution_count": null,
   "metadata": {},
   "outputs": [],
   "source": [
    "# restore checkpoint\n",
    "\n",
    "ckpt = {\"params\": params}\n",
    "restore_args = orbax_utils.restore_args_from_target(ckpt)\n",
    "orbax_checkpointer = orbax.checkpoint.PyTreeCheckpointer()\n",
    "orbax_options = orbax.checkpoint.CheckpointManagerOptions()\n",
    "checkpoint_manager = orbax.checkpoint.CheckpointManager(model_path, orbax_checkpointer, orbax_options)\n",
    "ckpt = checkpoint_manager.restore(step, ckpt, restore_kwargs={\"restore_args\": restore_args, \"transforms\": {r'(.*)(text|logit_bias|logit_scale|MAPHead)(.*)': orbax.checkpoint.Transform(use_fallback=True)}})\n",
    "params = ckpt[\"params\"]"
   ]
  },
  {
   "cell_type": "markdown",
   "metadata": {},
   "source": [
    "## Save checkpoint"
   ]
  },
  {
   "cell_type": "code",
   "execution_count": null,
   "metadata": {},
   "outputs": [],
   "source": [
    "def _save_checkpoint(ckpt, dir, step):\n",
    "        orbax_options = orbax.checkpoint.CheckpointManagerOptions(create=True)\n",
    "        save_checkpoint_manager = orbax.checkpoint.CheckpointManager(dir, orbax_checkpointer, orbax_options)\n",
    "        save_args = orbax_utils.save_args_from_target(ckpt)\n",
    "        save_checkpoint_manager.save(step, ckpt, save_kwargs={\"save_args\": save_args})"
   ]
  },
  {
   "cell_type": "code",
   "execution_count": null,
   "metadata": {},
   "outputs": [],
   "source": [
    "dir = \"gs://bucket/output_folder\"\n",
    "\n",
    "_save_checkpoint(ckpt, dir, 0)"
   ]
  },
  {
   "cell_type": "code",
   "execution_count": null,
   "metadata": {},
   "outputs": [],
   "source": [
    "config_path = f\"{dir}/config.json\"\n",
    "with fsspec.open(config_path, \"w\") as f:\n",
    "    f.write(json.dumps(config, indent=2))"
   ]
  },
  {
   "cell_type": "code",
   "execution_count": null,
   "metadata": {},
   "outputs": [],
   "source": [
    "wandb.init(\n",
    "    entity=\"my_entity\",\n",
    "    project=\"my_project\",\n",
    "    job_type=\"train\",\n",
    "    save_code=False,\n",
    ")"
   ]
  },
  {
   "cell_type": "code",
   "execution_count": null,
   "metadata": {},
   "outputs": [],
   "source": [
    "artifact = wandb.run.use_artifact(config_name)"
   ]
  },
  {
   "cell_type": "code",
   "execution_count": null,
   "metadata": {},
   "outputs": [],
   "source": [
    "artifact = wandb.Artifact(\n",
    "    name=f\"config-{wandb.run.id}\",\n",
    "    type=\"config\",\n",
    "    metadata={\"output_dir\": dir},\n",
    ")\n",
    "with artifact.new_file(\"config.json\", mode=\"w\", encoding=\"utf-8\") as f:\n",
    "    json.dump(config, f, indent=2)\n",
    "wandb.run.log_artifact(artifact)"
   ]
  },
  {
   "cell_type": "code",
   "execution_count": null,
   "metadata": {},
   "outputs": [],
   "source": [
    "wandb.finish()"
   ]
  }
 ],
 "metadata": {
  "kernelspec": {
   "display_name": "dev",
   "language": "python",
   "name": "python3"
  },
  "language_info": {
   "codemirror_mode": {
    "name": "ipython",
    "version": 3
   },
   "file_extension": ".py",
   "mimetype": "text/x-python",
   "name": "python",
   "nbconvert_exporter": "python",
   "pygments_lexer": "ipython3",
   "version": "3.10.13"
  },
  "orig_nbformat": 4,
  "vscode": {
   "interpreter": {
    "hash": "aa3d2ab134fae865f4add8129f6d39439f1593eafeb08333862636037ecdb592"
   }
  }
 },
 "nbformat": 4,
 "nbformat_minor": 2
}
